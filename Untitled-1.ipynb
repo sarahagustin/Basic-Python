{
    "cells": [
        {
            "cell_type": "code",
            "execution_count": 2,
            "metadata": {},
            "outputs": [
                {
                    "data": {
                        "text/plain": [
                            "int"
                        ]
                    },
                    "execution_count": 2,
                    "metadata": {},
                    "output_type": "execute_result"
                }
            ],
            "source": [
                "a = 13\n",
                "type (a)"
            ]
        },
        {
            "cell_type": "code",
            "execution_count": 3,
            "metadata": {},
            "outputs": [
                {
                    "data": {
                        "text/plain": [
                            "str"
                        ]
                    },
                    "execution_count": 3,
                    "metadata": {},
                    "output_type": "execute_result"
                }
            ],
            "source": [
                "b = 'sistel'\n",
                "type (b)"
            ]
        },
        {
            "cell_type": "code",
            "execution_count": 4,
            "metadata": {},
            "outputs": [
                {
                    "data": {
                        "text/plain": [
                            "'0x2acb1fc0270'"
                        ]
                    },
                    "execution_count": 4,
                    "metadata": {},
                    "output_type": "execute_result"
                }
            ],
            "source": [
                "c = 13\n",
                "hex (id(c))"
            ]
        },
        {
            "cell_type": "code",
            "execution_count": 5,
            "metadata": {},
            "outputs": [
                {
                    "data": {
                        "text/plain": [
                            "'0x2acb1fc0d30'"
                        ]
                    },
                    "execution_count": 5,
                    "metadata": {},
                    "output_type": "execute_result"
                }
            ],
            "source": [
                "c = 99\n",
                "hex (id(c))"
            ]
        },
        {
            "cell_type": "code",
            "execution_count": 6,
            "metadata": {},
            "outputs": [
                {
                    "data": {
                        "text/plain": [
                            "'0x2acb686da40'"
                        ]
                    },
                    "execution_count": 6,
                    "metadata": {},
                    "output_type": "execute_result"
                }
            ],
            "source": [
                "d = [13]\n",
                "hex (id(d))"
            ]
        },
        {
            "cell_type": "code",
            "execution_count": 7,
            "metadata": {},
            "outputs": [
                {
                    "data": {
                        "text/plain": [
                            "'0x2acb686da40'"
                        ]
                    },
                    "execution_count": 7,
                    "metadata": {},
                    "output_type": "execute_result"
                }
            ],
            "source": [
                "d [0] = 99\n",
                "hex (id(d))"
            ]
        },
        {
            "cell_type": "code",
            "execution_count": 8,
            "metadata": {},
            "outputs": [
                {
                    "data": {
                        "text/plain": [
                            "str"
                        ]
                    },
                    "execution_count": 8,
                    "metadata": {},
                    "output_type": "execute_result"
                }
            ],
            "source": [
                "nama=input(\"masukan nama anda: \")\n",
                "type(nama)"
            ]
        },
        {
            "cell_type": "code",
            "execution_count": 9,
            "metadata": {},
            "outputs": [
                {
                    "ename": "TypeError",
                    "evalue": "can only concatenate str (not \"int\") to str",
                    "output_type": "error",
                    "traceback": [
                        "\u001b[1;31m---------------------------------------------------------------------------\u001b[0m",
                        "\u001b[1;31mTypeError\u001b[0m                                 Traceback (most recent call last)",
                        "\u001b[1;32mc:\\Users\\sarah\\OneDrive\\Dokumen\\BELAJAR CODING\\Untitled-1.ipynb Cell 8'\u001b[0m in \u001b[0;36m<module>\u001b[1;34m\u001b[0m\n\u001b[0;32m      <a href='vscode-notebook-cell:/c%3A/Users/sarah/OneDrive/Dokumen/BELAJAR%20CODING/Untitled-1.ipynb#ch0000007?line=0'>1</a>\u001b[0m f \u001b[39m=\u001b[39m \u001b[39minput\u001b[39m(\u001b[39m'\u001b[39m\u001b[39mmasukan bilangan bulat:\u001b[39m\u001b[39m'\u001b[39m)\n\u001b[1;32m----> <a href='vscode-notebook-cell:/c%3A/Users/sarah/OneDrive/Dokumen/BELAJAR%20CODING/Untitled-1.ipynb#ch0000007?line=1'>2</a>\u001b[0m f\u001b[39m+\u001b[39;49m\u001b[39m2\u001b[39;49m\n",
                        "\u001b[1;31mTypeError\u001b[0m: can only concatenate str (not \"int\") to str"
                    ]
                }
            ],
            "source": [
                "f = input('masukan bilangan bulat:')\n",
                "f+2"
            ]
        },
        {
            "cell_type": "code",
            "execution_count": 10,
            "metadata": {},
            "outputs": [
                {
                    "data": {
                        "text/plain": [
                            "12"
                        ]
                    },
                    "execution_count": 10,
                    "metadata": {},
                    "output_type": "execute_result"
                }
            ],
            "source": [
                "g = int (input('masukan bilangan bulat'))\n",
                "g+2"
            ]
        },
        {
            "cell_type": "code",
            "execution_count": 19,
            "metadata": {},
            "outputs": [],
            "source": [
                "# menggunakan for\n",
                "for i in range (8,8) :\n",
                "    print ('python')"
            ]
        },
        {
            "cell_type": "code",
            "execution_count": 12,
            "metadata": {},
            "outputs": [
                {
                    "name": "stdout",
                    "output_type": "stream",
                    "text": [
                        "python\n",
                        "python\n",
                        "python\n"
                    ]
                }
            ],
            "source": [
                "# menggunakan while\n",
                "i = 1\n",
                "while (i<=3) :\n",
                "    print ('python')\n",
                "    i+=1"
            ]
        },
        {
            "cell_type": "code",
            "execution_count": 20,
            "metadata": {},
            "outputs": [],
            "source": [
                "## contoh perintah if\n",
                "x=25\n",
                "if x%2==0 :\n",
                "    print (\"%d adalah bilangan genap\" %x)"
            ]
        },
        {
            "cell_type": "code",
            "execution_count": 21,
            "metadata": {},
            "outputs": [
                {
                    "name": "stdout",
                    "output_type": "stream",
                    "text": [
                        "20 adalah bilangan genap\n"
                    ]
                }
            ],
            "source": [
                "## contoh perintah if\n",
                "x=20\n",
                "if x%2==0 :\n",
                "    print (\"%d adalah bilangan genap\" %x)"
            ]
        },
        {
            "cell_type": "code",
            "execution_count": 22,
            "metadata": {},
            "outputs": [
                {
                    "name": "stdout",
                    "output_type": "stream",
                    "text": [
                        "0 adalah bilangan genap\n"
                    ]
                }
            ],
            "source": [
                "## contoh perintah if\n",
                "x=0\n",
                "if x%2==0 :\n",
                "    print (\"%d adalah bilangan genap\" %x)"
            ]
        },
        {
            "cell_type": "code",
            "execution_count": 26,
            "metadata": {},
            "outputs": [
                {
                    "name": "stdout",
                    "output_type": "stream",
                    "text": [
                        "25 adalah bilangan posistif\n"
                    ]
                }
            ],
            "source": [
                "## contoh if dengan dua kasus\n",
                "x=25\n",
                "if x>0 :\n",
                "    print (\"%d adalah bilangan posistif\" %x)\n",
                "else :\n",
                "    print (\"%d adalah bilangan negatif\" %x)    "
            ]
        },
        {
            "cell_type": "code",
            "execution_count": 24,
            "metadata": {},
            "outputs": [
                {
                    "name": "stdout",
                    "output_type": "stream",
                    "text": [
                        "-25 adalah bilangan negatif\n"
                    ]
                }
            ],
            "source": [
                "## contoh if dengan dua kasus\n",
                "x=-25\n",
                "if x>0 :\n",
                "    print (\"%d adalah bilangan posistif\" %x)\n",
                "else :\n",
                "    print (\"%d adalah bilangan negatif\" %x) "
            ]
        },
        {
            "cell_type": "code",
            "execution_count": 25,
            "metadata": {},
            "outputs": [
                {
                    "name": "stdout",
                    "output_type": "stream",
                    "text": [
                        "0 adalah bilangan negatif\n"
                    ]
                }
            ],
            "source": [
                "## contoh if dengan dua kasus\n",
                "x=0\n",
                "if x>0 :\n",
                "    print (\"%d adalah bilangan posistif\" %x)\n",
                "else :\n",
                "    print (\"%d adalah bilangan negatif\" %x) "
            ]
        },
        {
            "cell_type": "code",
            "execution_count": 27,
            "metadata": {},
            "outputs": [
                {
                    "name": "stdout",
                    "output_type": "stream",
                    "text": [
                        "25 adalah bilangan positif\n"
                    ]
                }
            ],
            "source": [
                "## contoh if dengan tiga kasus\n",
                "x=25\n",
                "if x>0 :\n",
                "    print(\"%d adalah bilangan positif\" %x)\n",
                "elif x==0 :\n",
                "    print (\"Anda memasukan nilai 0\")\n",
                "else :\n",
                "    print (\"%d adalah bilangan negatif\" %x)        "
            ]
        },
        {
            "cell_type": "code",
            "execution_count": 28,
            "metadata": {},
            "outputs": [
                {
                    "name": "stdout",
                    "output_type": "stream",
                    "text": [
                        "-25 adalah bilangan negatif\n"
                    ]
                }
            ],
            "source": [
                "## contoh if dengan tiga kasus\n",
                "x=-25\n",
                "if x>0 :\n",
                "    print(\"%d adalah bilangan positif\" %x)\n",
                "elif x==0 :\n",
                "    print (\"Anda memasukan nilai 0\")\n",
                "else :\n",
                "    print (\"%d adalah bilangan negatif\" %x) "
            ]
        },
        {
            "cell_type": "code",
            "execution_count": 29,
            "metadata": {},
            "outputs": [
                {
                    "name": "stdout",
                    "output_type": "stream",
                    "text": [
                        "Anda memasukan nilai 0\n"
                    ]
                }
            ],
            "source": [
                "## contoh if dengan tiga kasus\n",
                "x=0\n",
                "if x>0 :\n",
                "    print(\"%d adalah bilangan positif\" %x)\n",
                "elif x==0 :\n",
                "    print (\"Anda memasukan nilai 0\")\n",
                "else :\n",
                "    print (\"%d adalah bilangan negatif\" %x) "
            ]
        }
    ],
    "metadata": {
        "interpreter": {
            "hash": "4338d5509b16e9270abf1791020aba0aea09ca0af6a0232e41a8259da1d15c55"
        },
        "kernelspec": {
            "display_name": "Python 3.10.2 64-bit",
            "language": "python",
            "name": "python3"
        },
        "language_info": {
            "codemirror_mode": {
                "name": "ipython",
                "version": 3
            },
            "file_extension": ".py",
            "mimetype": "text/x-python",
            "name": "python",
            "nbconvert_exporter": "python",
            "pygments_lexer": "ipython3",
            "version": "3.10.2"
        },
        "orig_nbformat": 4
    },
    "nbformat": 4,
    "nbformat_minor": 2
}
