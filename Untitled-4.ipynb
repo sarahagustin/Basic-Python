{
 "cells": [
  {
   "cell_type": "code",
   "execution_count": 1,
   "metadata": {},
   "outputs": [
    {
     "name": "stdout",
     "output_type": "stream",
     "text": [
      "['111-222-333-444-4', 'master PHP', 650, 2012]\n",
      "10\n",
      "30\n",
      "30\n"
     ]
    }
   ],
   "source": [
    "a = [10,20,30]\n",
    "a[1] = 30 \n",
    "\n",
    "daftar_buku=[\n",
    "    ['111-222-333-444-1', 'master C', 700, 2012], \n",
    "    ['111-222-333-444-2', 'master C++', 800, 2012], \n",
    "    ['111-222-333-444-3', 'master Python', 900, 2012], \n",
    "    ['111-222-333-444-4', 'master PHP', 650, 2012],\n",
    "]\n",
    "print (daftar_buku[3])\n",
    "print (a[0])\n",
    "print (a[1])\n",
    "print (a[2])\n"
   ]
  },
  {
   "cell_type": "code",
   "execution_count": 2,
   "metadata": {},
   "outputs": [
    {
     "name": "stdout",
     "output_type": "stream",
     "text": [
      "[10, 20, 50, 30, [30, 20], 66, 77, 88]\n"
     ]
    }
   ],
   "source": [
    "a=[10,20,30] \n",
    "a.append([30,20]) \n",
    "a.insert(2,50) \n",
    "a.extend([66,77,88])\n",
    "print(a)"
   ]
  },
  {
   "cell_type": "code",
   "execution_count": 3,
   "metadata": {},
   "outputs": [
    {
     "name": "stdout",
     "output_type": "stream",
     "text": [
      "[10, 30, 40, 50]\n",
      "[10, 30, 50]\n",
      "50\n",
      "[10, 30]\n"
     ]
    }
   ],
   "source": [
    "a = [10,20,30,40,50] \n",
    "del a[1] \n",
    "print(a) \n",
    "a.remove(40) \n",
    "print(a) \n",
    "n = a.pop() \n",
    "print(n) \n",
    "print(a)"
   ]
  },
  {
   "cell_type": "code",
   "execution_count": 4,
   "metadata": {},
   "outputs": [
    {
     "name": "stdout",
     "output_type": "stream",
     "text": [
      "[10, 20, 30, 40, 50]\n",
      "[50, 40, 30, 20, 10]\n",
      "[50, 10, 40, 20, 30]\n",
      "[50, 40, 30, 20, 10]\n"
     ]
    }
   ],
   "source": [
    "a = [50,10,40,20,30]\n",
    "b = sorted(a)\n",
    "print(b)\n",
    "c = sorted(a, reverse=True)\n",
    "print(c)\n",
    "print(a) \n",
    "a.sort(reverse=True)\n",
    "print(a)"
   ]
  },
  {
   "cell_type": "code",
   "execution_count": 5,
   "metadata": {},
   "outputs": [
    {
     "name": "stdout",
     "output_type": "stream",
     "text": [
      "[30, 20, 40, 10, 50]\n"
     ]
    }
   ],
   "source": [
    "a = [50,10,40,20,30] \n",
    "a.reverse() \n",
    "print(a)"
   ]
  },
  {
   "cell_type": "code",
   "execution_count": 6,
   "metadata": {},
   "outputs": [
    {
     "name": "stdout",
     "output_type": "stream",
     "text": [
      "[10, 20]\n",
      "[30, 40, 50]\n",
      "[30, 40]\n"
     ]
    }
   ],
   "source": [
    "a = [10,20,30,40,50]\n",
    "b = a[:2]\n",
    "print(b)\n",
    "c=a[2:]\n",
    "print(c)\n",
    "d=a[2:4]\n",
    "print(d)"
   ]
  },
  {
   "cell_type": "code",
   "execution_count": 10,
   "metadata": {},
   "outputs": [
    {
     "name": "stdout",
     "output_type": "stream",
     "text": [
      "Kar-001\n",
      "Indra\n",
      "8500000\n"
     ]
    }
   ],
   "source": [
    "karyawan = ['Kar-001', 'Indra', '8500000']\n",
    "nip, nama, gaji = karyawan\n",
    "print(nip)\n",
    "print(nama)\n",
    "print(gaji)"
   ]
  },
  {
   "cell_type": "code",
   "execution_count": 12,
   "metadata": {},
   "outputs": [
    {
     "name": "stdout",
     "output_type": "stream",
     "text": [
      "Kar-001\n",
      "Indra\n",
      "8500000\n"
     ]
    }
   ],
   "source": [
    "karyawan = ['Kar-001', 'Indra', '8500000']\n",
    "nip, nama, gaji = karyawan\n",
    "print(karyawan[0])\n",
    "print(karyawan[1])\n",
    "print(karyawan[2])"
   ]
  }
 ],
 "metadata": {
  "interpreter": {
   "hash": "4338d5509b16e9270abf1791020aba0aea09ca0af6a0232e41a8259da1d15c55"
  },
  "kernelspec": {
   "display_name": "Python 3.10.2 64-bit",
   "language": "python",
   "name": "python3"
  },
  "language_info": {
   "codemirror_mode": {
    "name": "ipython",
    "version": 3
   },
   "file_extension": ".py",
   "mimetype": "text/x-python",
   "name": "python",
   "nbconvert_exporter": "python",
   "pygments_lexer": "ipython3",
   "version": "3.10.2"
  },
  "orig_nbformat": 4
 },
 "nbformat": 4,
 "nbformat_minor": 2
}
